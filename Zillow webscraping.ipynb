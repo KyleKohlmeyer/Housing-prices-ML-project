{
 "cells": [
  {
   "cell_type": "markdown",
   "metadata": {},
   "source": [
    "# Module 11 Challenge\n",
    "## Deliverable 2: Scrape and Analyze Mars Weather Data"
   ]
  },
  {
   "cell_type": "code",
   "execution_count": 2,
   "metadata": {},
   "outputs": [],
   "source": [
    "# Import relevant libraries for webscraping\n",
    "from selenium import webdriver\n",
    "from selenium.webdriver.chrome.service import Service\n",
    "from webdriver_manager.chrome import ChromeDriverManager\n",
    "from bs4 import BeautifulSoup\n",
    "from selenium.webdriver.support.select import Select\n",
    "from selenium.webdriver.common.by import By\n",
    "from selenium.webdriver.common.keys import Keys\n",
    "from selenium.webdriver.common.action_chains import ActionChains"
   ]
  },
  {
   "cell_type": "code",
   "execution_count": 3,
   "metadata": {},
   "outputs": [],
   "source": [
    "# Import relevant libraries for data analysis\n",
    "import matplotlib.pyplot as plt\n",
    "import pandas as pd\n",
    "import scipy.stats as st\n",
    "import numpy as np\n",
    "import datetime as dt"
   ]
  },
  {
   "cell_type": "code",
   "execution_count": 4,
   "metadata": {},
   "outputs": [
    {
     "name": "stdout",
     "output_type": "stream",
     "text": [
      "{'executable_path': '/Users/kelcigriffin/.wdm/drivers/chromedriver/mac64/123.0.6312.122/chromedriver-mac-x64/chromedriver'}\n"
     ]
    }
   ],
   "source": [
    "# Get executable path\n",
    "executable_path = {'executable_path': ChromeDriverManager().install()}\n",
    "print(executable_path)\n"
   ]
  },
  {
   "cell_type": "code",
   "execution_count": 5,
   "metadata": {},
   "outputs": [],
   "source": [
    "# set up selenium for Chrome\n",
    "\n",
    "service = Service(executable_path=executable_path['executable_path'])\n",
    "options = webdriver.ChromeOptions()\n",
    "driver = webdriver.Chrome(service=service, options=options)"
   ]
  },
  {
   "cell_type": "markdown",
   "metadata": {},
   "source": [
    "### Step 1: Visit the Website\n",
    "\n",
    "Use automated browsing to visit the [Mars Temperature Data Site](https://static.bc-edx.com/data/web/mars_facts/temperature.html). Inspect the page to identify which elements to scrape.\n",
    "\n",
    "   > **Hint** To identify which elements to scrape, you might want to inspect the page by using Chrome DevTools to discover whether the table contains usable classes.\n"
   ]
  },
  {
   "cell_type": "code",
   "execution_count": 6,
   "metadata": {},
   "outputs": [],
   "source": [
    "# Visit the website\n",
    "url = \"https://www.zillow.com/chicago-il/sold/?searchQueryState=%7B%22isMapVisible%22%3Atrue%2C%22mapBounds%22%3A%7B%22north%22%3A42.119870123529815%2C%22south%22%3A41.54687191063841%2C%22east%22%3A-87.19223863085938%2C%22west%22%3A-88.27164536914063%7D%2C%22filterState%22%3A%7B%22sort%22%3A%7B%22value%22%3A%22globalrelevanceex%22%7D%2C%22fsba%22%3A%7B%22value%22%3Afalse%7D%2C%22fsbo%22%3A%7B%22value%22%3Afalse%7D%2C%22nc%22%3A%7B%22value%22%3Afalse%7D%2C%22cmsn%22%3A%7B%22value%22%3Afalse%7D%2C%22auc%22%3A%7B%22value%22%3Afalse%7D%2C%22fore%22%3A%7B%22value%22%3Afalse%7D%2C%22rs%22%3A%7B%22value%22%3Atrue%7D%7D%2C%22isListVisible%22%3Atrue%2C%22regionSelection%22%3A%5B%7B%22regionId%22%3A17426%2C%22regionType%22%3A6%7D%5D%2C%22pagination%22%3A%7B%7D%7D\"\n",
    "driver.get(url)\n",
    "html = driver.page_source"
   ]
  },
  {
   "cell_type": "markdown",
   "metadata": {},
   "source": [
    "### Step 2: Scrape the Table\n",
    "\n",
    "Create a Beautiful Soup object and use it to scrape the data in the HTML table.\n",
    "\n",
    "Note that this can also be achieved by using the Pandas `read_html` function. However, use Beautiful Soup here to continue sharpening your web scraping skills."
   ]
  },
  {
   "cell_type": "code",
   "execution_count": 7,
   "metadata": {},
   "outputs": [],
   "source": [
    "# Create a Beautiful Soup Object\n",
    "soup = BeautifulSoup(html, 'html.parser')"
   ]
  },
  {
   "cell_type": "code",
   "execution_count": 8,
   "metadata": {},
   "outputs": [
    {
     "name": "stdout",
     "output_type": "stream",
     "text": [
      "1\n",
      "2\n",
      "3\n",
      "4\n",
      "5\n",
      "6\n",
      "7\n"
     ]
    },
    {
     "ename": "ElementClickInterceptedException",
     "evalue": "Message: element click intercepted: Element <a aria-disabled=\"false\" rel=\"next\" title=\"Next page\" href=\"/chicago-il/sold/8_p/\" class=\"StyledButton-c11n-8-100-7__sc-iv7357-0 bbnptg PaginationButton-c11n-8-100-7__sc-1i6hxyy-0 kNeogd\">...</a> is not clickable at point (668, 938). Other element would receive the click: <div class=\"Spacer-c11n-8-99-3__sc-17suqs2-0 clojRQ\">...</div>\n  (Session info: chrome=123.0.6312.122)\nStacktrace:\n0   chromedriver                        0x000000010fc320c8 chromedriver + 4595912\n1   chromedriver                        0x000000010fc29e33 chromedriver + 4562483\n2   chromedriver                        0x000000010f82d39a chromedriver + 381850\n3   chromedriver                        0x000000010f87e181 chromedriver + 713089\n4   chromedriver                        0x000000010f87c093 chromedriver + 704659\n5   chromedriver                        0x000000010f8796f7 chromedriver + 694007\n6   chromedriver                        0x000000010f878a9c chromedriver + 690844\n7   chromedriver                        0x000000010f86b90c chromedriver + 637196\n8   chromedriver                        0x000000010f899142 chromedriver + 823618\n9   chromedriver                        0x000000010f86b2b8 chromedriver + 635576\n10  chromedriver                        0x000000010f8992fe chromedriver + 824062\n11  chromedriver                        0x000000010f8b914d chromedriver + 954701\n12  chromedriver                        0x000000010f898ee3 chromedriver + 823011\n13  chromedriver                        0x000000010f869be4 chromedriver + 629732\n14  chromedriver                        0x000000010f86a79e chromedriver + 632734\n15  chromedriver                        0x000000010fbf7fe2 chromedriver + 4358114\n16  chromedriver                        0x000000010fbfcc2d chromedriver + 4377645\n17  chromedriver                        0x000000010fbfc5a3 chromedriver + 4375971\n18  chromedriver                        0x000000010fbfced5 chromedriver + 4378325\n19  chromedriver                        0x000000010fbe1a05 chromedriver + 4266501\n20  chromedriver                        0x000000010fbfd25d chromedriver + 4379229\n21  chromedriver                        0x000000010fbd4050 chromedriver + 4210768\n22  chromedriver                        0x000000010fc1aa98 chromedriver + 4500120\n23  chromedriver                        0x000000010fc1ac11 chromedriver + 4500497\n24  chromedriver                        0x000000010fc29a73 chromedriver + 4561523\n25  libsystem_pthread.dylib             0x00007ff8126dc4e1 _pthread_start + 125\n26  libsystem_pthread.dylib             0x00007ff8126d7f6b thread_start + 15\n",
     "output_type": "error",
     "traceback": [
      "\u001b[0;31m---------------------------------------------------------------------------\u001b[0m",
      "\u001b[0;31mElementClickInterceptedException\u001b[0m          Traceback (most recent call last)",
      "Cell \u001b[0;32mIn[8], line 39\u001b[0m\n\u001b[1;32m     36\u001b[0m     addresses\u001b[38;5;241m.\u001b[39mappend(address_text)\n\u001b[1;32m     38\u001b[0m next_button \u001b[38;5;241m=\u001b[39m driver\u001b[38;5;241m.\u001b[39mfind_element(By\u001b[38;5;241m.\u001b[39mXPATH, \u001b[38;5;124m'\u001b[39m\u001b[38;5;124m//*[@id=\u001b[39m\u001b[38;5;124m\"\u001b[39m\u001b[38;5;124mgrid-search-results\u001b[39m\u001b[38;5;124m\"\u001b[39m\u001b[38;5;124m]/div[2]/nav/ul/li[10]/a\u001b[39m\u001b[38;5;124m'\u001b[39m)\n\u001b[0;32m---> 39\u001b[0m \u001b[43mnext_button\u001b[49m\u001b[38;5;241;43m.\u001b[39;49m\u001b[43mclick\u001b[49m\u001b[43m(\u001b[49m\u001b[43m)\u001b[49m\n\u001b[1;32m     41\u001b[0m time\u001b[38;5;241m.\u001b[39msleep(\u001b[38;5;241m3\u001b[39m)\n\u001b[1;32m     42\u001b[0m \u001b[38;5;28mprint\u001b[39m(g)\n",
      "File \u001b[0;32m~/anaconda3/envs/dev/lib/python3.10/site-packages/selenium/webdriver/remote/webelement.py:94\u001b[0m, in \u001b[0;36mWebElement.click\u001b[0;34m(self)\u001b[0m\n\u001b[1;32m     92\u001b[0m \u001b[38;5;28;01mdef\u001b[39;00m \u001b[38;5;21mclick\u001b[39m(\u001b[38;5;28mself\u001b[39m) \u001b[38;5;241m-\u001b[39m\u001b[38;5;241m>\u001b[39m \u001b[38;5;28;01mNone\u001b[39;00m:\n\u001b[1;32m     93\u001b[0m \u001b[38;5;250m    \u001b[39m\u001b[38;5;124;03m\"\"\"Clicks the element.\"\"\"\u001b[39;00m\n\u001b[0;32m---> 94\u001b[0m     \u001b[38;5;28;43mself\u001b[39;49m\u001b[38;5;241;43m.\u001b[39;49m\u001b[43m_execute\u001b[49m\u001b[43m(\u001b[49m\u001b[43mCommand\u001b[49m\u001b[38;5;241;43m.\u001b[39;49m\u001b[43mCLICK_ELEMENT\u001b[49m\u001b[43m)\u001b[49m\n",
      "File \u001b[0;32m~/anaconda3/envs/dev/lib/python3.10/site-packages/selenium/webdriver/remote/webelement.py:395\u001b[0m, in \u001b[0;36mWebElement._execute\u001b[0;34m(self, command, params)\u001b[0m\n\u001b[1;32m    393\u001b[0m     params \u001b[38;5;241m=\u001b[39m {}\n\u001b[1;32m    394\u001b[0m params[\u001b[38;5;124m\"\u001b[39m\u001b[38;5;124mid\u001b[39m\u001b[38;5;124m\"\u001b[39m] \u001b[38;5;241m=\u001b[39m \u001b[38;5;28mself\u001b[39m\u001b[38;5;241m.\u001b[39m_id\n\u001b[0;32m--> 395\u001b[0m \u001b[38;5;28;01mreturn\u001b[39;00m \u001b[38;5;28;43mself\u001b[39;49m\u001b[38;5;241;43m.\u001b[39;49m\u001b[43m_parent\u001b[49m\u001b[38;5;241;43m.\u001b[39;49m\u001b[43mexecute\u001b[49m\u001b[43m(\u001b[49m\u001b[43mcommand\u001b[49m\u001b[43m,\u001b[49m\u001b[43m \u001b[49m\u001b[43mparams\u001b[49m\u001b[43m)\u001b[49m\n",
      "File \u001b[0;32m~/anaconda3/envs/dev/lib/python3.10/site-packages/selenium/webdriver/remote/webdriver.py:348\u001b[0m, in \u001b[0;36mWebDriver.execute\u001b[0;34m(self, driver_command, params)\u001b[0m\n\u001b[1;32m    346\u001b[0m response \u001b[38;5;241m=\u001b[39m \u001b[38;5;28mself\u001b[39m\u001b[38;5;241m.\u001b[39mcommand_executor\u001b[38;5;241m.\u001b[39mexecute(driver_command, params)\n\u001b[1;32m    347\u001b[0m \u001b[38;5;28;01mif\u001b[39;00m response:\n\u001b[0;32m--> 348\u001b[0m     \u001b[38;5;28;43mself\u001b[39;49m\u001b[38;5;241;43m.\u001b[39;49m\u001b[43merror_handler\u001b[49m\u001b[38;5;241;43m.\u001b[39;49m\u001b[43mcheck_response\u001b[49m\u001b[43m(\u001b[49m\u001b[43mresponse\u001b[49m\u001b[43m)\u001b[49m\n\u001b[1;32m    349\u001b[0m     response[\u001b[38;5;124m\"\u001b[39m\u001b[38;5;124mvalue\u001b[39m\u001b[38;5;124m\"\u001b[39m] \u001b[38;5;241m=\u001b[39m \u001b[38;5;28mself\u001b[39m\u001b[38;5;241m.\u001b[39m_unwrap_value(response\u001b[38;5;241m.\u001b[39mget(\u001b[38;5;124m\"\u001b[39m\u001b[38;5;124mvalue\u001b[39m\u001b[38;5;124m\"\u001b[39m, \u001b[38;5;28;01mNone\u001b[39;00m))\n\u001b[1;32m    350\u001b[0m     \u001b[38;5;28;01mreturn\u001b[39;00m response\n",
      "File \u001b[0;32m~/anaconda3/envs/dev/lib/python3.10/site-packages/selenium/webdriver/remote/errorhandler.py:229\u001b[0m, in \u001b[0;36mErrorHandler.check_response\u001b[0;34m(self, response)\u001b[0m\n\u001b[1;32m    227\u001b[0m         alert_text \u001b[38;5;241m=\u001b[39m value[\u001b[38;5;124m\"\u001b[39m\u001b[38;5;124malert\u001b[39m\u001b[38;5;124m\"\u001b[39m]\u001b[38;5;241m.\u001b[39mget(\u001b[38;5;124m\"\u001b[39m\u001b[38;5;124mtext\u001b[39m\u001b[38;5;124m\"\u001b[39m)\n\u001b[1;32m    228\u001b[0m     \u001b[38;5;28;01mraise\u001b[39;00m exception_class(message, screen, stacktrace, alert_text)  \u001b[38;5;66;03m# type: ignore[call-arg]  # mypy is not smart enough here\u001b[39;00m\n\u001b[0;32m--> 229\u001b[0m \u001b[38;5;28;01mraise\u001b[39;00m exception_class(message, screen, stacktrace)\n",
      "\u001b[0;31mElementClickInterceptedException\u001b[0m: Message: element click intercepted: Element <a aria-disabled=\"false\" rel=\"next\" title=\"Next page\" href=\"/chicago-il/sold/8_p/\" class=\"StyledButton-c11n-8-100-7__sc-iv7357-0 bbnptg PaginationButton-c11n-8-100-7__sc-1i6hxyy-0 kNeogd\">...</a> is not clickable at point (668, 938). Other element would receive the click: <div class=\"Spacer-c11n-8-99-3__sc-17suqs2-0 clojRQ\">...</div>\n  (Session info: chrome=123.0.6312.122)\nStacktrace:\n0   chromedriver                        0x000000010fc320c8 chromedriver + 4595912\n1   chromedriver                        0x000000010fc29e33 chromedriver + 4562483\n2   chromedriver                        0x000000010f82d39a chromedriver + 381850\n3   chromedriver                        0x000000010f87e181 chromedriver + 713089\n4   chromedriver                        0x000000010f87c093 chromedriver + 704659\n5   chromedriver                        0x000000010f8796f7 chromedriver + 694007\n6   chromedriver                        0x000000010f878a9c chromedriver + 690844\n7   chromedriver                        0x000000010f86b90c chromedriver + 637196\n8   chromedriver                        0x000000010f899142 chromedriver + 823618\n9   chromedriver                        0x000000010f86b2b8 chromedriver + 635576\n10  chromedriver                        0x000000010f8992fe chromedriver + 824062\n11  chromedriver                        0x000000010f8b914d chromedriver + 954701\n12  chromedriver                        0x000000010f898ee3 chromedriver + 823011\n13  chromedriver                        0x000000010f869be4 chromedriver + 629732\n14  chromedriver                        0x000000010f86a79e chromedriver + 632734\n15  chromedriver                        0x000000010fbf7fe2 chromedriver + 4358114\n16  chromedriver                        0x000000010fbfcc2d chromedriver + 4377645\n17  chromedriver                        0x000000010fbfc5a3 chromedriver + 4375971\n18  chromedriver                        0x000000010fbfced5 chromedriver + 4378325\n19  chromedriver                        0x000000010fbe1a05 chromedriver + 4266501\n20  chromedriver                        0x000000010fbfd25d chromedriver + 4379229\n21  chromedriver                        0x000000010fbd4050 chromedriver + 4210768\n22  chromedriver                        0x000000010fc1aa98 chromedriver + 4500120\n23  chromedriver                        0x000000010fc1ac11 chromedriver + 4500497\n24  chromedriver                        0x000000010fc29a73 chromedriver + 4561523\n25  libsystem_pthread.dylib             0x00007ff8126dc4e1 _pthread_start + 125\n26  libsystem_pthread.dylib             0x00007ff8126d7f6b thread_start + 15\n"
     ]
    }
   ],
   "source": [
    "import time\n",
    "# Create empty lists\n",
    "beds = []\n",
    "baths = []\n",
    "sqft = []\n",
    "prices = []\n",
    "addresses = []\n",
    "\n",
    "for g in range(1, 10):\n",
    "    \n",
    "    # Get the prices\n",
    "    price = soup.find_all(class_='PropertyCardWrapper__StyledPriceLine-srp-8-100-4__sc-16e8gqd-1 dNnIRL')\n",
    "    for a in price:\n",
    "        price_data_text = a.text\n",
    "        prices.append(price_data_text)\n",
    "    \n",
    "    house_stats = soup.find_all(class_='StyledPropertyCardHomeDetailsList-c11n-8-100-4__sc-1j0som5-0 dPkwmL')\n",
    "    data_house = []\n",
    "    for b in house_stats:\n",
    " \n",
    "        data_texts = b.find_all('b')\n",
    "        data_house.append(data_texts)\n",
    "\n",
    "    for c in data_house:\n",
    "        innerlist = c\n",
    "        bed_cleaned = innerlist[0].text\n",
    "        bath_cleaned = innerlist[1].text\n",
    "        sqft_cleaned = innerlist[2].text\n",
    "        beds.append(bed_cleaned)\n",
    "        baths.append(bath_cleaned)\n",
    "        sqft.append(sqft_cleaned)\n",
    "        \n",
    "    address = soup.find_all(class_='StyledPropertyCardDataArea-c11n-8-100-4__sc-10i1r6-0 dKKiyn property-card-link')\n",
    "    for d in address:\n",
    "        address_text = d.text\n",
    "        addresses.append(address_text)\n",
    "        \n",
    "    next_button = driver.find_element(By.XPATH, '//*[@id=\"grid-search-results\"]/div[2]/nav/ul/li[10]/a')\n",
    "    next_button.click()\n",
    "\n",
    "    time.sleep(3)\n",
    "    print(g)"
   ]
  },
  {
   "cell_type": "code",
   "execution_count": 9,
   "metadata": {},
   "outputs": [
    {
     "name": "stdout",
     "output_type": "stream",
     "text": [
      "[]\n"
     ]
    }
   ],
   "source": [
    "print(prices)"
   ]
  },
  {
   "cell_type": "code",
   "execution_count": null,
   "metadata": {},
   "outputs": [],
   "source": [
    "# Click the button\n",
    "next_button = driver.find_element(By.XPATH, '//*[@id=\"grid-search-results\"]/div[2]/nav/ul/li[10]/a')\n",
    "next_button.click()"
   ]
  },
  {
   "cell_type": "code",
   "execution_count": null,
   "metadata": {
    "scrolled": true
   },
   "outputs": [],
   "source": [
    "# Scrape each row of data and store in list\n",
    "# Find each row of the table\n",
    "price = soup.find_all(class_='PropertyCardWrapper__StyledPriceLine-srp-8-100-4__sc-16e8gqd-1 dNnIRL')\n",
    "print(price)"
   ]
  },
  {
   "cell_type": "code",
   "execution_count": null,
   "metadata": {},
   "outputs": [],
   "source": [
    "prices = []\n",
    "for x in price:\n",
    "    data_text = x.text\n",
    "    prices.append(data_text)\n",
    "print(prices)\n",
    "        "
   ]
  },
  {
   "cell_type": "code",
   "execution_count": null,
   "metadata": {},
   "outputs": [],
   "source": [
    "sqdata = soup.find_all(class_='StyledPropertyCardHomeDetailsList-c11n-8-100-4__sc-1j0som5-0 dPkwmL')\n",
    "print(sqdata)\n"
   ]
  },
  {
   "cell_type": "code",
   "execution_count": null,
   "metadata": {},
   "outputs": [],
   "source": [
    "datalol = []\n",
    "for x in sqdata:\n",
    "#     data_texts = x.text\n",
    "    data_texts = x.find_all('b')\n",
    "    datalol.append(data_texts)\n",
    "print(datalol)\n",
    "        "
   ]
  },
  {
   "cell_type": "code",
   "execution_count": null,
   "metadata": {},
   "outputs": [],
   "source": [
    "beds = []\n",
    "baths = []\n",
    "sqft = []\n",
    "for x in datalol:\n",
    "    innerlist = x\n",
    "    bed_cleaned = innerlist[0].text\n",
    "    bath_cleaned = innerlist[1].text\n",
    "    sqft_cleaned = innerlist[2].text\n",
    "    beds.append(bed_cleaned)\n",
    "    baths.append(bath_cleaned)\n",
    "    sqft.append(sqft_cleaned)\n",
    "\n",
    "print(sqft)"
   ]
  },
  {
   "cell_type": "code",
   "execution_count": null,
   "metadata": {},
   "outputs": [],
   "source": [
    "address = soup.find_all(class_='StyledPropertyCardDataArea-c11n-8-100-4__sc-10i1r6-0 dKKiyn property-card-link')\n",
    "print(address)"
   ]
  },
  {
   "cell_type": "code",
   "execution_count": null,
   "metadata": {},
   "outputs": [],
   "source": [
    "addresses = []\n",
    "for x in address:\n",
    "    data_text = x.text\n",
    "    addresses.append(data_text)\n",
    "print(addresses)\n",
    "        "
   ]
  },
  {
   "cell_type": "code",
   "execution_count": null,
   "metadata": {
    "scrolled": true
   },
   "outputs": [],
   "source": [
    "# Creating dataframe from the scraped data\n",
    "houses_df = pd.DataFrame({\n",
    "    \"Sold Price ($)\": prices,\n",
    "    \"Bedrooms\": beds,\n",
    "    \"Baths\": baths,\n",
    "    \"Square Feet\": sqft,\n",
    "    \"One Line Address\": addresses,\n",
    "   \n",
    "}) \n",
    "\n",
    "# Removing the dollar signs from the sold price and separating the address into root componants\n",
    "\n",
    "houses_df[['Street Address', 'City','StateZip']] = houses_df['One Line Address'].str.split(',', expand=True)\n",
    "houses_df['StateZip'] = houses_df['StateZip'].str.strip()\n",
    "houses_df[['State', 'Zipcode']] = houses_df['StateZip'].str.split(' ', expand=True)\n",
    "houses_df = houses_df.drop('StateZip', axis='columns')\n",
    "\n",
    "houses_df.head()"
   ]
  },
  {
   "cell_type": "code",
   "execution_count": null,
   "metadata": {},
   "outputs": [],
   "source": [
    "# Changing datatypes\n",
    "houses_cleaned_df = houses_df\n",
    "houses_cleaned_df['Sold Price ($)'] = houses_cleaned_df['Sold Price ($)'].str.replace('$', '')\n",
    "houses_cleaned_df['Sold Price ($)'] = houses_cleaned_df['Sold Price ($)'].str.replace(',', '')\n",
    "houses_cleaned_df['Square Feet'] = houses_cleaned_df['Square Feet'].str.replace(',', '')\n",
    "houses_cleaned_df['Sold Price ($)'] = houses_cleaned_df['Sold Price ($)'].astype(int)\n",
    "houses_cleaned_df['Square Feet'] = houses_cleaned_df['Square Feet'].astype(int)\n",
    "houses_cleaned_df['Zipcode'] = houses_cleaned_df['Zipcode'].astype(int)\n",
    "houses_cleaned_df.head()"
   ]
  },
  {
   "cell_type": "markdown",
   "metadata": {},
   "source": [
    "### Step 6: Save the Data\n",
    "\n",
    "Export the DataFrame to a CSV file."
   ]
  },
  {
   "cell_type": "code",
   "execution_count": null,
   "metadata": {},
   "outputs": [],
   "source": [
    "# Write the data to a CSV\n",
    "# houses_cleaned_df.to_csv(\"Output/houses.csv\", index=False, header=True)"
   ]
  },
  {
   "cell_type": "code",
   "execution_count": null,
   "metadata": {},
   "outputs": [],
   "source": [
    "# Close the browser\n",
    "driver.quit()"
   ]
  },
  {
   "cell_type": "code",
   "execution_count": null,
   "metadata": {},
   "outputs": [],
   "source": []
  }
 ],
 "metadata": {
  "kernelspec": {
   "display_name": "Python 3 (ipykernel)",
   "language": "python",
   "name": "python3"
  },
  "language_info": {
   "codemirror_mode": {
    "name": "ipython",
    "version": 3
   },
   "file_extension": ".py",
   "mimetype": "text/x-python",
   "name": "python",
   "nbconvert_exporter": "python",
   "pygments_lexer": "ipython3",
   "version": "3.10.13"
  },
  "vscode": {
   "interpreter": {
    "hash": "31f2aee4e71d21fbe5cf8b01ff0e069b9275f58929596ceb00d14d90e3e16cd6"
   }
  }
 },
 "nbformat": 4,
 "nbformat_minor": 4
}
